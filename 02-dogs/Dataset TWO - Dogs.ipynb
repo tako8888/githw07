{
 "cells": [
  {
   "cell_type": "markdown",
   "metadata": {},
   "source": [
    "# Homework 7, Part Two: A dataset about dogs.\n",
    "\n",
    "Data from [a FOIL request to New York City](https://www.muckrock.com/foi/new-york-city-17/pet-licensing-data-for-new-york-city-23826/).\n",
    "\n",
    "Some of the questions get kind of weird in this one, especially later on. **Feel free to lean on ChatGPT for the crazier ones!** It might be an interesting exploration of how to ask problems or explain what your dataset looks like."
   ]
  },
  {
   "cell_type": "markdown",
   "metadata": {},
   "source": [
    "## Do your importing and your setup"
   ]
  },
  {
   "cell_type": "code",
   "execution_count": 1,
   "metadata": {},
   "outputs": [
    {
     "name": "stdout",
     "output_type": "stream",
     "text": [
      "Dataset TWO - Dogs.ipynb\n",
      "NYC_Dog_Licenses_Current_as_of_4-28-2016.xlsx\n",
      "boro_population.csv\n",
      "zipcodes-neighborhoods.csv\n"
     ]
    }
   ],
   "source": [
    "import pandas as pd  # 文字数を節約\n",
    "%matplotlib inline\n",
    "\n",
    "!ls"
   ]
  },
  {
   "cell_type": "markdown",
   "metadata": {},
   "source": [
    "## Read in the file `NYC_Dog_Licenses_Current_as_of_4-28-2016.xlsx` and look at the first five rows"
   ]
  },
  {
   "cell_type": "code",
   "execution_count": 2,
   "metadata": {},
   "outputs": [
    {
     "data": {
      "text/html": [
       "<div>\n",
       "<style scoped>\n",
       "    .dataframe tbody tr th:only-of-type {\n",
       "        vertical-align: middle;\n",
       "    }\n",
       "\n",
       "    .dataframe tbody tr th {\n",
       "        vertical-align: top;\n",
       "    }\n",
       "\n",
       "    .dataframe thead th {\n",
       "        text-align: right;\n",
       "    }\n",
       "</style>\n",
       "<table border=\"1\" class=\"dataframe\">\n",
       "  <thead>\n",
       "    <tr style=\"text-align: right;\">\n",
       "      <th></th>\n",
       "      <th>Owner Zip Code</th>\n",
       "      <th>Animal Name</th>\n",
       "      <th>Animal Gender</th>\n",
       "      <th>Primary Breed</th>\n",
       "      <th>Secondary Breed</th>\n",
       "      <th>Animal Dominant Color</th>\n",
       "      <th>Animal Secondary Color</th>\n",
       "      <th>Animal Third Color</th>\n",
       "      <th>Animal Birth</th>\n",
       "      <th>Spayed or Neut</th>\n",
       "      <th>Guard or Trained</th>\n",
       "      <th>Vaccinated</th>\n",
       "      <th>Application Date</th>\n",
       "      <th>License Issued Date</th>\n",
       "      <th>License Expired Date</th>\n",
       "    </tr>\n",
       "  </thead>\n",
       "  <tbody>\n",
       "    <tr>\n",
       "      <th>0</th>\n",
       "      <td>10024</td>\n",
       "      <td>BLUE MACK</td>\n",
       "      <td>M</td>\n",
       "      <td>NaN</td>\n",
       "      <td>AIREDALE TERR</td>\n",
       "      <td>BROWN</td>\n",
       "      <td>BLACK</td>\n",
       "      <td>NaN</td>\n",
       "      <td>2007-11-01</td>\n",
       "      <td>Yes</td>\n",
       "      <td>No</td>\n",
       "      <td>Yes</td>\n",
       "      <td>2012-09-19 16:01:19.647000</td>\n",
       "      <td>2015-09-19</td>\n",
       "      <td>2016-09-19</td>\n",
       "    </tr>\n",
       "    <tr>\n",
       "      <th>1</th>\n",
       "      <td>10461</td>\n",
       "      <td>Indie Zephir</td>\n",
       "      <td>M</td>\n",
       "      <td>Rottweiler</td>\n",
       "      <td>NaN</td>\n",
       "      <td>BLACK</td>\n",
       "      <td>TAN</td>\n",
       "      <td>NaN</td>\n",
       "      <td>2013-04-01</td>\n",
       "      <td>No</td>\n",
       "      <td>No</td>\n",
       "      <td>Yes</td>\n",
       "      <td>2013-09-20 11:41:36.647000</td>\n",
       "      <td>2014-09-20</td>\n",
       "      <td>2018-09-20</td>\n",
       "    </tr>\n",
       "    <tr>\n",
       "      <th>2</th>\n",
       "      <td>10013</td>\n",
       "      <td>Bilal</td>\n",
       "      <td>M</td>\n",
       "      <td>Australian Cattledog</td>\n",
       "      <td>NaN</td>\n",
       "      <td>Rust</td>\n",
       "      <td>NaN</td>\n",
       "      <td>NaN</td>\n",
       "      <td>2014-09-01</td>\n",
       "      <td>Yes</td>\n",
       "      <td>NaN</td>\n",
       "      <td>No</td>\n",
       "      <td>2014-09-12 13:13:36.713000</td>\n",
       "      <td>2014-09-12</td>\n",
       "      <td>2019-09-12</td>\n",
       "    </tr>\n",
       "    <tr>\n",
       "      <th>3</th>\n",
       "      <td>10025</td>\n",
       "      <td>Buddy</td>\n",
       "      <td>M</td>\n",
       "      <td>NaN</td>\n",
       "      <td>Cockapoo</td>\n",
       "      <td>BLOND</td>\n",
       "      <td>WHITE</td>\n",
       "      <td>NaN</td>\n",
       "      <td>2008-04-01</td>\n",
       "      <td>Yes</td>\n",
       "      <td>No</td>\n",
       "      <td>Yes</td>\n",
       "      <td>2014-09-12 15:26:51.417000</td>\n",
       "      <td>2014-09-12</td>\n",
       "      <td>2017-10-20</td>\n",
       "    </tr>\n",
       "    <tr>\n",
       "      <th>4</th>\n",
       "      <td>10013</td>\n",
       "      <td>Ali</td>\n",
       "      <td>M</td>\n",
       "      <td>Basenji</td>\n",
       "      <td>NaN</td>\n",
       "      <td>Black</td>\n",
       "      <td>NaN</td>\n",
       "      <td>NaN</td>\n",
       "      <td>2014-01-01</td>\n",
       "      <td>No</td>\n",
       "      <td>NaN</td>\n",
       "      <td>No</td>\n",
       "      <td>2014-09-12 15:43:17.707000</td>\n",
       "      <td>2014-09-12</td>\n",
       "      <td>2019-09-12</td>\n",
       "    </tr>\n",
       "  </tbody>\n",
       "</table>\n",
       "</div>"
      ],
      "text/plain": [
       "   Owner Zip Code   Animal Name Animal Gender         Primary Breed  \\\n",
       "0           10024     BLUE MACK             M                   NaN   \n",
       "1           10461  Indie Zephir             M            Rottweiler   \n",
       "2           10013         Bilal             M  Australian Cattledog   \n",
       "3           10025         Buddy             M                   NaN   \n",
       "4           10013           Ali             M               Basenji   \n",
       "\n",
       "  Secondary Breed Animal Dominant Color Animal Secondary Color  \\\n",
       "0   AIREDALE TERR                 BROWN                  BLACK   \n",
       "1             NaN                 BLACK                    TAN   \n",
       "2             NaN                  Rust                    NaN   \n",
       "3        Cockapoo                 BLOND                  WHITE   \n",
       "4             NaN                 Black                    NaN   \n",
       "\n",
       "  Animal Third Color Animal Birth Spayed or Neut Guard or Trained Vaccinated  \\\n",
       "0                NaN   2007-11-01            Yes               No        Yes   \n",
       "1                NaN   2013-04-01             No               No        Yes   \n",
       "2                NaN   2014-09-01            Yes              NaN         No   \n",
       "3                NaN   2008-04-01            Yes               No        Yes   \n",
       "4                NaN   2014-01-01             No              NaN         No   \n",
       "\n",
       "             Application Date License Issued Date License Expired Date  \n",
       "0  2012-09-19 16:01:19.647000          2015-09-19           2016-09-19  \n",
       "1  2013-09-20 11:41:36.647000          2014-09-20           2018-09-20  \n",
       "2  2014-09-12 13:13:36.713000          2014-09-12           2019-09-12  \n",
       "3  2014-09-12 15:26:51.417000          2014-09-12           2017-10-20  \n",
       "4  2014-09-12 15:43:17.707000          2014-09-12           2019-09-12  "
      ]
     },
     "execution_count": 2,
     "metadata": {},
     "output_type": "execute_result"
    }
   ],
   "source": [
    "df = pd.read_excel(\"NYC_Dog_Licenses_Current_as_of_4-28-2016.xlsx\",\n",
    "                   na_values=[0, 'Unknown', 'UNKNOWN'],\n",
    "                   parse_dates=['Application Date','License Issued Date', 'License Expired Date', 'Animal Birth'],\n",
    "                    nrows=30000) # None \n",
    "df.head(5)"
   ]
  },
  {
   "cell_type": "markdown",
   "metadata": {},
   "source": [
    "## How many rows do you have in the data? What are the column types?\n",
    "\n",
    "If there are more than 30,000 rows in your dataset, go back and only read in the first 30,000."
   ]
  },
  {
   "cell_type": "code",
   "execution_count": 3,
   "metadata": {},
   "outputs": [
    {
     "name": "stdout",
     "output_type": "stream",
     "text": [
      "<class 'pandas.core.frame.DataFrame'>\n",
      "RangeIndex: 30000 entries, 0 to 29999\n",
      "Data columns (total 15 columns):\n",
      " #   Column                  Non-Null Count  Dtype         \n",
      "---  ------                  --------------  -----         \n",
      " 0   Owner Zip Code          30000 non-null  int64         \n",
      " 1   Animal Name             29539 non-null  object        \n",
      " 2   Animal Gender           30000 non-null  object        \n",
      " 3   Primary Breed           25223 non-null  object        \n",
      " 4   Secondary Breed         3974 non-null   object        \n",
      " 5   Animal Dominant Color   29885 non-null  object        \n",
      " 6   Animal Secondary Color  20946 non-null  object        \n",
      " 7   Animal Third Color      6629 non-null   object        \n",
      " 8   Animal Birth            30000 non-null  datetime64[ns]\n",
      " 9   Spayed or Neut          30000 non-null  object        \n",
      " 10  Guard or Trained        19826 non-null  object        \n",
      " 11  Vaccinated              30000 non-null  object        \n",
      " 12  Application Date        30000 non-null  object        \n",
      " 13  License Issued Date     30000 non-null  datetime64[ns]\n",
      " 14  License Expired Date    30000 non-null  datetime64[ns]\n",
      "dtypes: datetime64[ns](3), int64(1), object(11)\n",
      "memory usage: 3.4+ MB\n"
     ]
    },
    {
     "data": {
      "text/plain": [
       "(30000, None)"
      ]
     },
     "execution_count": 3,
     "metadata": {},
     "output_type": "execute_result"
    }
   ],
   "source": [
    "len(df), df.info()"
   ]
  },
  {
   "cell_type": "markdown",
   "metadata": {},
   "source": [
    "## Describe the dataset in words. What is each row? List two column titles along with what each of those columns means.\n",
    "\n",
    "For example: “Each row is an animal in the zoo. `is_reptile` is whether the animal is a reptile or not”"
   ]
  },
  {
   "cell_type": "markdown",
   "metadata": {},
   "source": [
    "Pets list. These pets are licensed in some way. Each row is a pet owned by someone and applied for licence after 2015.\n",
    " \n",
    " Following columns have just literal meaning.\n",
    " 0   Owner Zip Code          30000 non-null  int64         \n",
    " 1   Animal Name             29742 non-null  object "
   ]
  },
  {
   "cell_type": "markdown",
   "metadata": {},
   "source": [
    "# Your thoughts\n",
    "\n",
    "Think of three questions you could ask this dataset. **Don't ask them**, just write them down in the cell below. Feel free to use either Markdown or Python comments."
   ]
  },
  {
   "attachments": {},
   "cell_type": "markdown",
   "metadata": {},
   "source": [
    "1. Is this a list on a specific state?\n",
    "2. What do they mean by three similar columns Animal Dominant Color, Animal Secondary Color\tAnimal Third Color?\n",
    "3. Primary Breed\tSecondary Breed. What are these?"
   ]
  },
  {
   "cell_type": "markdown",
   "metadata": {},
   "source": [
    "# Looking at some dogs"
   ]
  },
  {
   "cell_type": "markdown",
   "metadata": {},
   "source": [
    "## What are the most popular (primary) breeds of dogs? Graph the top 10."
   ]
  },
  {
   "cell_type": "code",
   "execution_count": 4,
   "metadata": {},
   "outputs": [
    {
     "data": {
      "text/plain": [
       "Primary Breed\n",
       "Yorkshire Terrier                       1882\n",
       "Shih Tzu                                1760\n",
       "Chihuahua                               1535\n",
       "Maltese                                 1133\n",
       "Labrador Retriever                      1074\n",
       "American Pit Bull Terrier/Pit Bull       780\n",
       "Labrador Retriever Crossbreed            738\n",
       "American Pit Bull Mix / Pit Bull Mix     722\n",
       "Jack Russell Terrier                     553\n",
       "Beagle                                   546\n",
       "Name: count, dtype: int64"
      ]
     },
     "execution_count": 4,
     "metadata": {},
     "output_type": "execute_result"
    }
   ],
   "source": [
    "df.value_counts('Primary Breed').head(10)"
   ]
  },
  {
   "cell_type": "markdown",
   "metadata": {},
   "source": [
    "## \"Unknown\" is a terrible breed! Graph the top 10 breeds that are NOT Unknown\n",
    "\n",
    "...maybe \"unknown\" should just count as missing data?"
   ]
  },
  {
   "cell_type": "code",
   "execution_count": 5,
   "metadata": {},
   "outputs": [
    {
     "data": {
      "text/plain": [
       "Primary Breed\n",
       "Yorkshire Terrier                       1882\n",
       "Shih Tzu                                1760\n",
       "Chihuahua                               1535\n",
       "Maltese                                 1133\n",
       "Labrador Retriever                      1074\n",
       "American Pit Bull Terrier/Pit Bull       780\n",
       "Labrador Retriever Crossbreed            738\n",
       "American Pit Bull Mix / Pit Bull Mix     722\n",
       "Jack Russell Terrier                     553\n",
       "Beagle                                   546\n",
       "Name: count, dtype: int64"
      ]
     },
     "execution_count": 5,
     "metadata": {},
     "output_type": "execute_result"
    }
   ],
   "source": [
    "df.value_counts('Primary Breed').head(10)"
   ]
  },
  {
   "cell_type": "markdown",
   "metadata": {},
   "source": [
    "## What are the most popular dog names?"
   ]
  },
  {
   "cell_type": "code",
   "execution_count": 6,
   "metadata": {},
   "outputs": [
    {
     "data": {
      "text/plain": [
       "Animal Name\n",
       "Max    202\n",
       "Name: count, dtype: int64"
      ]
     },
     "execution_count": 6,
     "metadata": {},
     "output_type": "execute_result"
    }
   ],
   "source": [
    "df.value_counts('Animal Name').head(1)"
   ]
  },
  {
   "cell_type": "markdown",
   "metadata": {},
   "source": [
    "## Do any dogs have your name? How many dogs are named \"Max,\" and how many are named \"Maxwell\"?"
   ]
  },
  {
   "cell_type": "code",
   "execution_count": 7,
   "metadata": {},
   "outputs": [
    {
     "data": {
      "text/plain": [
       "0"
      ]
     },
     "execution_count": 7,
     "metadata": {},
     "output_type": "execute_result"
    }
   ],
   "source": [
    "def name_check(name):\n",
    "    return len(df.query('`Animal Name` == \"{}\"'.format(name)))\n",
    "name_check('Takayuki')"
   ]
  },
  {
   "cell_type": "code",
   "execution_count": 8,
   "metadata": {},
   "outputs": [
    {
     "data": {
      "text/plain": [
       "202"
      ]
     },
     "execution_count": 8,
     "metadata": {},
     "output_type": "execute_result"
    }
   ],
   "source": [
    "name_check('Max')"
   ]
  },
  {
   "cell_type": "code",
   "execution_count": 9,
   "metadata": {},
   "outputs": [
    {
     "data": {
      "text/plain": [
       "11"
      ]
     },
     "execution_count": 9,
     "metadata": {},
     "output_type": "execute_result"
    }
   ],
   "source": [
    "name_check('Maxwell')"
   ]
  },
  {
   "cell_type": "markdown",
   "metadata": {},
   "source": [
    "## What percentage of dogs are guard dogs?"
   ]
  },
  {
   "cell_type": "code",
   "execution_count": 10,
   "metadata": {},
   "outputs": [
    {
     "data": {
      "text/plain": [
       "Guard or Trained\n",
       "No     0.660300\n",
       "NaN    0.339133\n",
       "Yes    0.000567\n",
       "Name: proportion, dtype: float64"
      ]
     },
     "execution_count": 10,
     "metadata": {},
     "output_type": "execute_result"
    }
   ],
   "source": [
    "df['Guard or Trained'].value_counts(normalize=True, dropna=False)"
   ]
  },
  {
   "cell_type": "markdown",
   "metadata": {},
   "source": [
    "## What are the actual numbers?"
   ]
  },
  {
   "cell_type": "code",
   "execution_count": 11,
   "metadata": {},
   "outputs": [
    {
     "data": {
      "text/plain": [
       "Guard or Trained\n",
       "No     19809\n",
       "NaN    10174\n",
       "Yes       17\n",
       "Name: count, dtype: int64"
      ]
     },
     "execution_count": 11,
     "metadata": {},
     "output_type": "execute_result"
    }
   ],
   "source": [
    "df['Guard or Trained'].value_counts(dropna=False)"
   ]
  },
  {
   "cell_type": "markdown",
   "metadata": {},
   "source": [
    "## Wait... if you add that up, is it the same as your number of rows? Where are the other dogs???? How can we find them??????\n",
    "\n",
    "Use your `.head()` to think about it, then you'll be a little more specific when using `.value_counts()`"
   ]
  },
  {
   "cell_type": "code",
   "execution_count": 12,
   "metadata": {},
   "outputs": [],
   "source": [
    "# I already solved this above"
   ]
  },
  {
   "cell_type": "markdown",
   "metadata": {},
   "source": [
    "## Fill in all of those empty \"Guard or Trained\" columns with \"No\"\n",
    "\n",
    "In this case, it seems nicer than missing data. Then check your result with another `.value_counts()`"
   ]
  },
  {
   "cell_type": "code",
   "execution_count": 13,
   "metadata": {},
   "outputs": [
    {
     "data": {
      "text/plain": [
       "Guard or Trained\n",
       "No     29983\n",
       "Yes       17\n",
       "Name: count, dtype: int64"
      ]
     },
     "execution_count": 13,
     "metadata": {},
     "output_type": "execute_result"
    }
   ],
   "source": [
    "df['Guard or Trained'] = df['Guard or Trained'].fillna('No')\n",
    "df['Guard or Trained'].value_counts()"
   ]
  },
  {
   "cell_type": "code",
   "execution_count": 14,
   "metadata": {},
   "outputs": [],
   "source": [
    "#df['Guard or Trained'] = df.loc[df['Guard or Trained'] is\n",
    "#df['Guard or Trained'] = df[df['Guard or Trained'].isna()]\n",
    "\n",
    "# locを使えない\n",
    "#df['Guard or Trained'] = df['Guard or Trained'].astype(str)\n",
    "\n",
    "#df['Guard or Trained'].value_counts()\n",
    "#df.head()"
   ]
  },
  {
   "cell_type": "code",
   "execution_count": 15,
   "metadata": {},
   "outputs": [],
   "source": [
    "#df.loc[df['Guard or Trained']]\n",
    "#df.loc[df['Guard or Trained'].isnull()]\n",
    "#df['Guard or Trained'].isna().value_counts()\n",
    "#df['Guard or Trained'].value_counts()"
   ]
  },
  {
   "cell_type": "markdown",
   "metadata": {},
   "source": [
    "## What are the top dog breeds for guard dogs? "
   ]
  },
  {
   "cell_type": "code",
   "execution_count": 16,
   "metadata": {},
   "outputs": [
    {
     "data": {
      "text/plain": [
       "Primary Breed\n",
       "German Shepherd Dog    3\n",
       "Name: count, dtype: int64"
      ]
     },
     "execution_count": 16,
     "metadata": {},
     "output_type": "execute_result"
    }
   ],
   "source": [
    "df.query('`Guard or Trained` == \"Yes\"')['Primary Breed'].value_counts().head(1)"
   ]
  },
  {
   "cell_type": "markdown",
   "metadata": {},
   "source": [
    "## Create a new column called \"year\" that is the dog's year of birth\n",
    "\n",
    "If `Animal Birth` is a datetime it makes things much easier."
   ]
  },
  {
   "cell_type": "code",
   "execution_count": 17,
   "metadata": {},
   "outputs": [
    {
     "data": {
      "text/plain": [
       "count    30000.000000\n",
       "mean      2009.287567\n",
       "std          4.066803\n",
       "min       1984.000000\n",
       "25%       2006.000000\n",
       "50%       2010.000000\n",
       "75%       2013.000000\n",
       "max       2015.000000\n",
       "Name: year, dtype: float64"
      ]
     },
     "execution_count": 17,
     "metadata": {},
     "output_type": "execute_result"
    }
   ],
   "source": [
    "df['year'] = 0\n",
    "df['year'] = df['Animal Birth'].dt.year\n",
    "#df['Animal Birth'].\n",
    "df['year'].describe()"
   ]
  },
  {
   "cell_type": "markdown",
   "metadata": {},
   "source": [
    "## Calculate a new column called “age” that shows approximately how old the dog is. How old are dogs on average?"
   ]
  },
  {
   "cell_type": "code",
   "execution_count": 18,
   "metadata": {},
   "outputs": [
    {
     "data": {
      "text/plain": [
       "count    30000.000000\n",
       "mean        14.712433\n",
       "std          4.066803\n",
       "min          9.000000\n",
       "25%         11.000000\n",
       "50%         14.000000\n",
       "75%         18.000000\n",
       "max         40.000000\n",
       "Name: age, dtype: float64"
      ]
     },
     "execution_count": 18,
     "metadata": {},
     "output_type": "execute_result"
    }
   ],
   "source": [
    "df['age'] = 2024 - df['year']\n",
    "df['age'].describe() # mean is 14"
   ]
  },
  {
   "cell_type": "markdown",
   "metadata": {},
   "source": [
    "# Joining data together"
   ]
  },
  {
   "cell_type": "code",
   "execution_count": 19,
   "metadata": {},
   "outputs": [],
   "source": [
    "# I thought this section irrelevant, so skipped this section."
   ]
  },
  {
   "cell_type": "markdown",
   "metadata": {},
   "source": [
    "## Which neighborhood does each dog live in?\n",
    "\n",
    "You also have a (terrible) list of NYC neighborhoods in `zipcodes-neighborhoods.csv`. Join these two datasets together, so we know what neighborhood each dog lives in. **Be sure to not read it in as `df`, or else you'll overwrite your dogs dataframe.**\n",
    "\n",
    "Here's an example of how you can merge two dataframes:\n",
    "\n",
    "```python\n",
    "merged = prisons_df.merge(states_df, left_on='state', right_on='name')\n",
    "```\n",
    "\n",
    "In the example above, `prisons_df` has a column called `state` that matches with the `name` column of `states_df`. The columns of `states_df` are then added to `prisons_df` and returned as a new dataframe called `merged`.\n",
    "\n",
    "> **Rows without a match get discarded because it is an [inner join](https://pandas.pydata.org/docs/reference/api/pandas.DataFrame.merge.html).** I think left joins are probably the most common (keep rows from the \"left\" df even if they don't have a match in the right. For example, by default a prison with the state of `PUERTO RICO` would be dropped if PR wasn't in `states_df`, but if you changed it to `how='left'` it would be preserved, but the additional columns would just be `NaN`."
   ]
  },
  {
   "cell_type": "code",
   "execution_count": 20,
   "metadata": {},
   "outputs": [
    {
     "data": {
      "text/html": [
       "<div>\n",
       "<style scoped>\n",
       "    .dataframe tbody tr th:only-of-type {\n",
       "        vertical-align: middle;\n",
       "    }\n",
       "\n",
       "    .dataframe tbody tr th {\n",
       "        vertical-align: top;\n",
       "    }\n",
       "\n",
       "    .dataframe thead th {\n",
       "        text-align: right;\n",
       "    }\n",
       "</style>\n",
       "<table border=\"1\" class=\"dataframe\">\n",
       "  <thead>\n",
       "    <tr style=\"text-align: right;\">\n",
       "      <th></th>\n",
       "      <th>neighborhood</th>\n",
       "      <th>zip</th>\n",
       "      <th>borough</th>\n",
       "    </tr>\n",
       "  </thead>\n",
       "  <tbody>\n",
       "    <tr>\n",
       "      <th>0</th>\n",
       "      <td>Central Bronx</td>\n",
       "      <td>10453</td>\n",
       "      <td>Bronx</td>\n",
       "    </tr>\n",
       "    <tr>\n",
       "      <th>1</th>\n",
       "      <td>Central Bronx</td>\n",
       "      <td>10457</td>\n",
       "      <td>Bronx</td>\n",
       "    </tr>\n",
       "    <tr>\n",
       "      <th>2</th>\n",
       "      <td>Central Bronx</td>\n",
       "      <td>10460</td>\n",
       "      <td>Bronx</td>\n",
       "    </tr>\n",
       "    <tr>\n",
       "      <th>3</th>\n",
       "      <td>Bronx Park and Fordham</td>\n",
       "      <td>10458</td>\n",
       "      <td>Bronx</td>\n",
       "    </tr>\n",
       "    <tr>\n",
       "      <th>4</th>\n",
       "      <td>Bronx Park and Fordham</td>\n",
       "      <td>10467</td>\n",
       "      <td>Bronx</td>\n",
       "    </tr>\n",
       "  </tbody>\n",
       "</table>\n",
       "</div>"
      ],
      "text/plain": [
       "             neighborhood    zip borough\n",
       "0           Central Bronx  10453   Bronx\n",
       "1           Central Bronx  10457   Bronx\n",
       "2           Central Bronx  10460   Bronx\n",
       "3  Bronx Park and Fordham  10458   Bronx\n",
       "4  Bronx Park and Fordham  10467   Bronx"
      ]
     },
     "execution_count": 20,
     "metadata": {},
     "output_type": "execute_result"
    }
   ],
   "source": [
    "df_prison = pd.read_csv(\"zipcodes-neighborhoods.csv\") # csvファイルのパス\n",
    "                 #sep=\"\\t\", # tabをseparator\n",
    "                 #encoding=\"iso8859-1\", # encode\n",
    "                #na_values=[0],\n",
    "                #parse_dates=['Treatment_Date']) # None \n",
    "df_prison.head() "
   ]
  },
  {
   "cell_type": "code",
   "execution_count": 21,
   "metadata": {},
   "outputs": [
    {
     "data": {
      "text/plain": [
       "neighborhood\n",
       "Upper West Side        2000\n",
       "Upper East Side        1851\n",
       "Northwest Brooklyn     1716\n",
       "Chelsea and Clinton    1533\n",
       "South Shore            1375\n",
       "Name: count, dtype: int64"
      ]
     },
     "execution_count": 21,
     "metadata": {},
     "output_type": "execute_result"
    }
   ],
   "source": [
    "merged = df_prison.merge(df, left_on='zip', right_on='Owner Zip Code', how = 'right')\n",
    "\n",
    "len(merged[merged['neighborhood'].isnull() == False]), len(merged[merged['neighborhood'].isnull() == True])\n",
    "\n",
    "merged['neighborhood'].value_counts(dropna=False).head()"
   ]
  },
  {
   "cell_type": "markdown",
   "metadata": {},
   "source": [
    "## What is the most popular dog name in all parts of the Bronx? How about Brooklyn? The Upper East Side?"
   ]
  },
  {
   "cell_type": "code",
   "execution_count": 22,
   "metadata": {},
   "outputs": [
    {
     "data": {
      "text/plain": [
       "Animal Name\n",
       "Bella    15\n",
       "Name: count, dtype: int64"
      ]
     },
     "execution_count": 22,
     "metadata": {},
     "output_type": "execute_result"
    }
   ],
   "source": [
    "def mostpop(area):\n",
    "    #merged.query('neighborhood == {}'.format(area))\n",
    "    return merged[merged['neighborhood'].str.contains(area, na=False)].value_counts('Animal Name').head(1)\n",
    "    \n",
    "mostpop('Bronx')"
   ]
  },
  {
   "cell_type": "code",
   "execution_count": 23,
   "metadata": {},
   "outputs": [
    {
     "name": "stdout",
     "output_type": "stream",
     "text": [
      "Bronx Animal Name\n",
      "Bella    15\n",
      "Name: count, dtype: int64\n",
      "Brooklyn Animal Name\n",
      "Max    28\n",
      "Name: count, dtype: int64\n",
      "Upper East Side Animal Name\n",
      "Charlie    19\n",
      "Name: count, dtype: int64\n"
     ]
    }
   ],
   "source": [
    "name_list = ['Bronx', 'Brooklyn', 'Upper East Side']\n",
    "for item in name_list:\n",
    "    print(item, mostpop(item))"
   ]
  },
  {
   "cell_type": "markdown",
   "metadata": {},
   "source": [
    "## What is the most common dog breed in each of the neighborhoods of NYC?"
   ]
  },
  {
   "cell_type": "code",
   "execution_count": 24,
   "metadata": {},
   "outputs": [
    {
     "data": {
      "text/plain": [
       "neighborhood                   Primary Breed                       \n",
       "Borough Park                   Yorkshire Terrier                        49\n",
       "Bronx Park and Fordham         Yorkshire Terrier                        39\n",
       "Bushwick and Williamsburg      Yorkshire Terrier                        47\n",
       "Canarsie and Flatlands         Shih Tzu                                 56\n",
       "Central Bronx                  Yorkshire Terrier                        29\n",
       "Central Brooklyn               Shih Tzu                                 52\n",
       "Central Harlem                 Chihuahua                                48\n",
       "Central Queens                 Yorkshire Terrier                        34\n",
       "Chelsea and Clinton            Chihuahua                                80\n",
       "East Harlem                    Yorkshire Terrier                        44\n",
       "East New York and New Lots     Yorkshire Terrier                        25\n",
       "Flatbush                       Shih Tzu                                 38\n",
       "Gramercy Park and Murray Hill  Yorkshire Terrier                        52\n",
       "Greenpoint                     Chihuahua                                40\n",
       "Greenwich Village and Soho     Labrador Retriever                       35\n",
       "High Bridge and Morrisania     Shih Tzu                                 33\n",
       "Hunts Point and Mott Haven     Chihuahua                                37\n",
       "Inwood and Washington Heights  Chihuahua                                48\n",
       "Jamaica                        Yorkshire Terrier                        41\n",
       "Kingsbridge and Riverdale      Shih Tzu                                 26\n",
       "Lower East Side                Chihuahua                                77\n",
       "Lower Manhattan                Shih Tzu                                 24\n",
       "Mid-Island                     Yorkshire Terrier                        36\n",
       "North Queens                   Maltese                                  54\n",
       "Northeast Bronx                Yorkshire Terrier                        35\n",
       "Northeast Queens               Maltese                                  29\n",
       "Northwest Brooklyn             Labrador Retriever                       72\n",
       "Northwest Queens               Chihuahua                                62\n",
       "Port Richmond                  American Pit Bull Mix / Pit Bull Mix     22\n",
       "Rockaways                      Shih Tzu                                 24\n",
       "South Shore                    Shih Tzu                                 90\n",
       "Southeast Bronx                Shih Tzu                                 83\n",
       "Southeast Queens               Yorkshire Terrier                        35\n",
       "Southern Brooklyn              Yorkshire Terrier                        85\n",
       "Southwest Brooklyn             Shih Tzu                                 69\n",
       "Southwest Queens               Yorkshire Terrier                        53\n",
       "Stapleton and St. George       Shih Tzu                                 33\n",
       "Sunset Park                    Yorkshire Terrier                        32\n",
       "Upper East Side                Havanese                                 94\n",
       "Upper West Side                Labrador Retriever                      121\n",
       "West Central Queens            Yorkshire Terrier                        72\n",
       "West Queens                    Shih Tzu                                 95\n",
       "Name: count, dtype: int64"
      ]
     },
     "execution_count": 24,
     "metadata": {},
     "output_type": "execute_result"
    }
   ],
   "source": [
    "#neighborhoods = merged['neighborhood'].drop_duplicates().tolist()\n",
    "#neighborhoods\n",
    "# merged.groupby('neighborhood').value_counts('Primary Breed') # ValueError: Keys {'i', 'P', ' ', 'r', 'B', 'e', 'y', 'm', 'a', 'd'} in subset do not exist in the DataFrame.\n",
    "\n",
    "# merged.groupby('neighborhood')['Primary Breed'].value_counts()\n",
    "\n",
    "# 各 'neighborhood' で 'Primary Breed' の出現回数をカウントし、最も多いものだけを返す\n",
    "top_breeds = merged.groupby('neighborhood')['Primary Breed'].value_counts().groupby(level=0).head(1)\n",
    "top_breeds"
   ]
  },
  {
   "cell_type": "code",
   "execution_count": null,
   "metadata": {},
   "outputs": [],
   "source": []
  },
  {
   "cell_type": "markdown",
   "metadata": {},
   "source": [
    "## What breed of dogs are the least likely to be spayed/neutered? Male or female?"
   ]
  },
  {
   "cell_type": "code",
   "execution_count": 25,
   "metadata": {},
   "outputs": [
    {
     "data": {
      "text/plain": [
       "Primary Breed                 Spayed or Neut\n",
       "Affenpinscher                 No                0.600000\n",
       "                              Yes               0.400000\n",
       "Afghan Hound                  Yes               0.800000\n",
       "                              No                0.200000\n",
       "Airedale Terrier              Yes               0.750000\n",
       "                                                  ...   \n",
       "Xoloitzcuintli                Yes               1.000000\n",
       "Yorkshire Terrier             Yes               0.714665\n",
       "                              No                0.285335\n",
       "Yorkshire Terrier Crossbreed  Yes               0.545455\n",
       "                              No                0.454545\n",
       "Name: proportion, Length: 428, dtype: float64"
      ]
     },
     "execution_count": 25,
     "metadata": {},
     "output_type": "execute_result"
    }
   ],
   "source": [
    "df.groupby('Primary Breed')['Spayed or Neut'].value_counts(normalize=True)"
   ]
  },
  {
   "cell_type": "code",
   "execution_count": 26,
   "metadata": {},
   "outputs": [
    {
     "data": {
      "text/html": [
       "<div>\n",
       "<style scoped>\n",
       "    .dataframe tbody tr th:only-of-type {\n",
       "        vertical-align: middle;\n",
       "    }\n",
       "\n",
       "    .dataframe tbody tr th {\n",
       "        vertical-align: top;\n",
       "    }\n",
       "\n",
       "    .dataframe thead th {\n",
       "        text-align: right;\n",
       "    }\n",
       "</style>\n",
       "<table border=\"1\" class=\"dataframe\">\n",
       "  <thead>\n",
       "    <tr style=\"text-align: right;\">\n",
       "      <th>Spayed or Neut</th>\n",
       "      <th>No</th>\n",
       "      <th>Yes</th>\n",
       "    </tr>\n",
       "    <tr>\n",
       "      <th>Primary Breed</th>\n",
       "      <th></th>\n",
       "      <th></th>\n",
       "    </tr>\n",
       "  </thead>\n",
       "  <tbody>\n",
       "    <tr>\n",
       "      <th>Affenpinscher</th>\n",
       "      <td>0.600000</td>\n",
       "      <td>0.400000</td>\n",
       "    </tr>\n",
       "    <tr>\n",
       "      <th>Afghan Hound</th>\n",
       "      <td>0.200000</td>\n",
       "      <td>0.800000</td>\n",
       "    </tr>\n",
       "    <tr>\n",
       "      <th>Airedale Terrier</th>\n",
       "      <td>0.250000</td>\n",
       "      <td>0.750000</td>\n",
       "    </tr>\n",
       "    <tr>\n",
       "      <th>Akita</th>\n",
       "      <td>0.189189</td>\n",
       "      <td>0.810811</td>\n",
       "    </tr>\n",
       "    <tr>\n",
       "      <th>Akita Crossbreed</th>\n",
       "      <td>0.176471</td>\n",
       "      <td>0.823529</td>\n",
       "    </tr>\n",
       "    <tr>\n",
       "      <th>...</th>\n",
       "      <td>...</td>\n",
       "      <td>...</td>\n",
       "    </tr>\n",
       "    <tr>\n",
       "      <th>Wire Fox Terrier</th>\n",
       "      <td>0.191489</td>\n",
       "      <td>0.808511</td>\n",
       "    </tr>\n",
       "    <tr>\n",
       "      <th>Wirehaired Pointing Griffon</th>\n",
       "      <td>0.500000</td>\n",
       "      <td>0.500000</td>\n",
       "    </tr>\n",
       "    <tr>\n",
       "      <th>Xoloitzcuintli</th>\n",
       "      <td>NaN</td>\n",
       "      <td>1.000000</td>\n",
       "    </tr>\n",
       "    <tr>\n",
       "      <th>Yorkshire Terrier</th>\n",
       "      <td>0.285335</td>\n",
       "      <td>0.714665</td>\n",
       "    </tr>\n",
       "    <tr>\n",
       "      <th>Yorkshire Terrier Crossbreed</th>\n",
       "      <td>0.454545</td>\n",
       "      <td>0.545455</td>\n",
       "    </tr>\n",
       "  </tbody>\n",
       "</table>\n",
       "<p>250 rows × 2 columns</p>\n",
       "</div>"
      ],
      "text/plain": [
       "Spayed or Neut                      No       Yes\n",
       "Primary Breed                                   \n",
       "Affenpinscher                 0.600000  0.400000\n",
       "Afghan Hound                  0.200000  0.800000\n",
       "Airedale Terrier              0.250000  0.750000\n",
       "Akita                         0.189189  0.810811\n",
       "Akita Crossbreed              0.176471  0.823529\n",
       "...                                ...       ...\n",
       "Wire Fox Terrier              0.191489  0.808511\n",
       "Wirehaired Pointing Griffon   0.500000  0.500000\n",
       "Xoloitzcuintli                     NaN  1.000000\n",
       "Yorkshire Terrier             0.285335  0.714665\n",
       "Yorkshire Terrier Crossbreed  0.454545  0.545455\n",
       "\n",
       "[250 rows x 2 columns]"
      ]
     },
     "execution_count": 26,
     "metadata": {},
     "output_type": "execute_result"
    }
   ],
   "source": [
    "# 去勢・避妊のデータを計算\n",
    "spay_neuter_rates = df.groupby('Primary Breed')['Spayed or Neut'].value_counts(normalize=True).unstack()\n",
    "\n",
    "spay_neuter_rates"
   ]
  },
  {
   "cell_type": "code",
   "execution_count": 27,
   "metadata": {},
   "outputs": [
    {
     "data": {
      "text/plain": [
       "pandas.core.frame.DataFrame"
      ]
     },
     "execution_count": 27,
     "metadata": {},
     "output_type": "execute_result"
    }
   ],
   "source": [
    "type(spay_neuter_rates)"
   ]
  },
  {
   "cell_type": "code",
   "execution_count": 28,
   "metadata": {},
   "outputs": [
    {
     "name": "stdout",
     "output_type": "stream",
     "text": [
      "Primary Breed\n",
      "Mudi                         1.0\n",
      "Mastiff, Tibetan             1.0\n",
      "Dogo Argentino               1.0\n",
      "Treeing Tennessee Brindle    1.0\n",
      "Karelian Bear Dog            1.0\n",
      "Name: No, dtype: float64\n"
     ]
    }
   ],
   "source": [
    "# 'No'の割合だけを抽出して、降順にソート\n",
    "least_spayed_or_neutered = spay_neuter_rates['No'].sort_values(ascending=False).copy()\n",
    "\n",
    "# 上位のデータを表示\n",
    "print(least_spayed_or_neutered.head())\n"
   ]
  },
  {
   "cell_type": "markdown",
   "metadata": {},
   "source": [
    "## How many dogs are in each borough? Plot it in a graph.\n",
    "\n",
    "When plotting, use `kind='barh'`. I didn't say this in class, but horizontal bar graphs are the only graphs I like!"
   ]
  },
  {
   "cell_type": "code",
   "execution_count": 29,
   "metadata": {},
   "outputs": [
    {
     "data": {
      "text/html": [
       "<div>\n",
       "<style scoped>\n",
       "    .dataframe tbody tr th:only-of-type {\n",
       "        vertical-align: middle;\n",
       "    }\n",
       "\n",
       "    .dataframe tbody tr th {\n",
       "        vertical-align: top;\n",
       "    }\n",
       "\n",
       "    .dataframe thead th {\n",
       "        text-align: right;\n",
       "    }\n",
       "</style>\n",
       "<table border=\"1\" class=\"dataframe\">\n",
       "  <thead>\n",
       "    <tr style=\"text-align: right;\">\n",
       "      <th></th>\n",
       "      <th>neighborhood</th>\n",
       "      <th>zip</th>\n",
       "      <th>borough</th>\n",
       "      <th>Owner Zip Code</th>\n",
       "      <th>Animal Name</th>\n",
       "      <th>Animal Gender</th>\n",
       "      <th>Primary Breed</th>\n",
       "      <th>Secondary Breed</th>\n",
       "      <th>Animal Dominant Color</th>\n",
       "      <th>Animal Secondary Color</th>\n",
       "      <th>Animal Third Color</th>\n",
       "      <th>Animal Birth</th>\n",
       "      <th>Spayed or Neut</th>\n",
       "      <th>Guard or Trained</th>\n",
       "      <th>Vaccinated</th>\n",
       "      <th>Application Date</th>\n",
       "      <th>License Issued Date</th>\n",
       "      <th>License Expired Date</th>\n",
       "      <th>year</th>\n",
       "      <th>age</th>\n",
       "    </tr>\n",
       "  </thead>\n",
       "  <tbody>\n",
       "    <tr>\n",
       "      <th>0</th>\n",
       "      <td>Upper West Side</td>\n",
       "      <td>10024.0</td>\n",
       "      <td>Manhattan</td>\n",
       "      <td>10024</td>\n",
       "      <td>BLUE MACK</td>\n",
       "      <td>M</td>\n",
       "      <td>NaN</td>\n",
       "      <td>AIREDALE TERR</td>\n",
       "      <td>BROWN</td>\n",
       "      <td>BLACK</td>\n",
       "      <td>NaN</td>\n",
       "      <td>2007-11-01</td>\n",
       "      <td>Yes</td>\n",
       "      <td>No</td>\n",
       "      <td>Yes</td>\n",
       "      <td>2012-09-19 16:01:19.647000</td>\n",
       "      <td>2015-09-19</td>\n",
       "      <td>2016-09-19</td>\n",
       "      <td>2007</td>\n",
       "      <td>17</td>\n",
       "    </tr>\n",
       "    <tr>\n",
       "      <th>1</th>\n",
       "      <td>Southeast Bronx</td>\n",
       "      <td>10461.0</td>\n",
       "      <td>Bronx</td>\n",
       "      <td>10461</td>\n",
       "      <td>Indie Zephir</td>\n",
       "      <td>M</td>\n",
       "      <td>Rottweiler</td>\n",
       "      <td>NaN</td>\n",
       "      <td>BLACK</td>\n",
       "      <td>TAN</td>\n",
       "      <td>NaN</td>\n",
       "      <td>2013-04-01</td>\n",
       "      <td>No</td>\n",
       "      <td>No</td>\n",
       "      <td>Yes</td>\n",
       "      <td>2013-09-20 11:41:36.647000</td>\n",
       "      <td>2014-09-20</td>\n",
       "      <td>2018-09-20</td>\n",
       "      <td>2013</td>\n",
       "      <td>11</td>\n",
       "    </tr>\n",
       "    <tr>\n",
       "      <th>2</th>\n",
       "      <td>Greenwich Village and Soho</td>\n",
       "      <td>10013.0</td>\n",
       "      <td>Manhattan</td>\n",
       "      <td>10013</td>\n",
       "      <td>Bilal</td>\n",
       "      <td>M</td>\n",
       "      <td>Australian Cattledog</td>\n",
       "      <td>NaN</td>\n",
       "      <td>Rust</td>\n",
       "      <td>NaN</td>\n",
       "      <td>NaN</td>\n",
       "      <td>2014-09-01</td>\n",
       "      <td>Yes</td>\n",
       "      <td>No</td>\n",
       "      <td>No</td>\n",
       "      <td>2014-09-12 13:13:36.713000</td>\n",
       "      <td>2014-09-12</td>\n",
       "      <td>2019-09-12</td>\n",
       "      <td>2014</td>\n",
       "      <td>10</td>\n",
       "    </tr>\n",
       "    <tr>\n",
       "      <th>3</th>\n",
       "      <td>Upper West Side</td>\n",
       "      <td>10025.0</td>\n",
       "      <td>Manhattan</td>\n",
       "      <td>10025</td>\n",
       "      <td>Buddy</td>\n",
       "      <td>M</td>\n",
       "      <td>NaN</td>\n",
       "      <td>Cockapoo</td>\n",
       "      <td>BLOND</td>\n",
       "      <td>WHITE</td>\n",
       "      <td>NaN</td>\n",
       "      <td>2008-04-01</td>\n",
       "      <td>Yes</td>\n",
       "      <td>No</td>\n",
       "      <td>Yes</td>\n",
       "      <td>2014-09-12 15:26:51.417000</td>\n",
       "      <td>2014-09-12</td>\n",
       "      <td>2017-10-20</td>\n",
       "      <td>2008</td>\n",
       "      <td>16</td>\n",
       "    </tr>\n",
       "    <tr>\n",
       "      <th>4</th>\n",
       "      <td>Greenwich Village and Soho</td>\n",
       "      <td>10013.0</td>\n",
       "      <td>Manhattan</td>\n",
       "      <td>10013</td>\n",
       "      <td>Ali</td>\n",
       "      <td>M</td>\n",
       "      <td>Basenji</td>\n",
       "      <td>NaN</td>\n",
       "      <td>Black</td>\n",
       "      <td>NaN</td>\n",
       "      <td>NaN</td>\n",
       "      <td>2014-01-01</td>\n",
       "      <td>No</td>\n",
       "      <td>No</td>\n",
       "      <td>No</td>\n",
       "      <td>2014-09-12 15:43:17.707000</td>\n",
       "      <td>2014-09-12</td>\n",
       "      <td>2019-09-12</td>\n",
       "      <td>2014</td>\n",
       "      <td>10</td>\n",
       "    </tr>\n",
       "  </tbody>\n",
       "</table>\n",
       "</div>"
      ],
      "text/plain": [
       "                 neighborhood      zip    borough  Owner Zip Code  \\\n",
       "0             Upper West Side  10024.0  Manhattan           10024   \n",
       "1             Southeast Bronx  10461.0      Bronx           10461   \n",
       "2  Greenwich Village and Soho  10013.0  Manhattan           10013   \n",
       "3             Upper West Side  10025.0  Manhattan           10025   \n",
       "4  Greenwich Village and Soho  10013.0  Manhattan           10013   \n",
       "\n",
       "    Animal Name Animal Gender         Primary Breed Secondary Breed  \\\n",
       "0     BLUE MACK             M                   NaN   AIREDALE TERR   \n",
       "1  Indie Zephir             M            Rottweiler             NaN   \n",
       "2         Bilal             M  Australian Cattledog             NaN   \n",
       "3         Buddy             M                   NaN        Cockapoo   \n",
       "4           Ali             M               Basenji             NaN   \n",
       "\n",
       "  Animal Dominant Color Animal Secondary Color Animal Third Color  \\\n",
       "0                 BROWN                  BLACK                NaN   \n",
       "1                 BLACK                    TAN                NaN   \n",
       "2                  Rust                    NaN                NaN   \n",
       "3                 BLOND                  WHITE                NaN   \n",
       "4                 Black                    NaN                NaN   \n",
       "\n",
       "  Animal Birth Spayed or Neut Guard or Trained Vaccinated  \\\n",
       "0   2007-11-01            Yes               No        Yes   \n",
       "1   2013-04-01             No               No        Yes   \n",
       "2   2014-09-01            Yes               No         No   \n",
       "3   2008-04-01            Yes               No        Yes   \n",
       "4   2014-01-01             No               No         No   \n",
       "\n",
       "             Application Date License Issued Date License Expired Date  year  \\\n",
       "0  2012-09-19 16:01:19.647000          2015-09-19           2016-09-19  2007   \n",
       "1  2013-09-20 11:41:36.647000          2014-09-20           2018-09-20  2013   \n",
       "2  2014-09-12 13:13:36.713000          2014-09-12           2019-09-12  2014   \n",
       "3  2014-09-12 15:26:51.417000          2014-09-12           2017-10-20  2008   \n",
       "4  2014-09-12 15:43:17.707000          2014-09-12           2019-09-12  2014   \n",
       "\n",
       "   age  \n",
       "0   17  \n",
       "1   11  \n",
       "2   10  \n",
       "3   16  \n",
       "4   10  "
      ]
     },
     "execution_count": 29,
     "metadata": {},
     "output_type": "execute_result"
    }
   ],
   "source": [
    "merged.head()"
   ]
  },
  {
   "cell_type": "code",
   "execution_count": 30,
   "metadata": {},
   "outputs": [
    {
     "data": {
      "text/plain": [
       "<Axes: ylabel='borough'>"
      ]
     },
     "execution_count": 30,
     "metadata": {},
     "output_type": "execute_result"
    },
    {
     "data": {
      "image/png": "[encoded data removed]",
      "text/plain": [
       "<Figure size 640x480 with 1 Axes>"
      ]
     },
     "metadata": {},
     "output_type": "display_data"
    }
   ],
   "source": [
    "merged.value_counts('borough').plot(kind='barh')"
   ]
  },
  {
   "cell_type": "markdown",
   "metadata": {},
   "source": [
    "## Which borough has the highest number of dogs per-capita?\n",
    "\n",
    "You’ll need to merge in `population_boro.csv`"
   ]
  },
  {
   "cell_type": "code",
   "execution_count": 31,
   "metadata": {},
   "outputs": [
    {
     "name": "stdout",
     "output_type": "stream",
     "text": [
      "Dataset TWO - Dogs.ipynb\n",
      "NYC_Dog_Licenses_Current_as_of_4-28-2016.xlsx\n",
      "boro_population.csv\n",
      "zipcodes-neighborhoods.csv\n"
     ]
    }
   ],
   "source": [
    "!ls"
   ]
  },
  {
   "cell_type": "code",
   "execution_count": 32,
   "metadata": {},
   "outputs": [],
   "source": [
    "pop_df = pd.read_csv(\"boro_population.csv\")"
   ]
  },
  {
   "cell_type": "code",
   "execution_count": 44,
   "metadata": {},
   "outputs": [
    {
     "data": {
      "text/html": [
       "<div>\n",
       "<style scoped>\n",
       "    .dataframe tbody tr th:only-of-type {\n",
       "        vertical-align: middle;\n",
       "    }\n",
       "\n",
       "    .dataframe tbody tr th {\n",
       "        vertical-align: top;\n",
       "    }\n",
       "\n",
       "    .dataframe thead th {\n",
       "        text-align: right;\n",
       "    }\n",
       "</style>\n",
       "<table border=\"1\" class=\"dataframe\">\n",
       "  <thead>\n",
       "    <tr style=\"text-align: right;\">\n",
       "      <th></th>\n",
       "      <th>borough</th>\n",
       "      <th>population</th>\n",
       "      <th>area_sqmi</th>\n",
       "    </tr>\n",
       "  </thead>\n",
       "  <tbody>\n",
       "    <tr>\n",
       "      <th>0</th>\n",
       "      <td>Manhattan</td>\n",
       "      <td>1644518</td>\n",
       "      <td>23</td>\n",
       "    </tr>\n",
       "    <tr>\n",
       "      <th>1</th>\n",
       "      <td>Bronx</td>\n",
       "      <td>1455444</td>\n",
       "      <td>42</td>\n",
       "    </tr>\n",
       "    <tr>\n",
       "      <th>2</th>\n",
       "      <td>Brooklyn</td>\n",
       "      <td>2636735</td>\n",
       "      <td>71</td>\n",
       "    </tr>\n",
       "    <tr>\n",
       "      <th>3</th>\n",
       "      <td>Queens</td>\n",
       "      <td>2339150</td>\n",
       "      <td>109</td>\n",
       "    </tr>\n",
       "    <tr>\n",
       "      <th>4</th>\n",
       "      <td>Staten Island</td>\n",
       "      <td>474558</td>\n",
       "      <td>59</td>\n",
       "    </tr>\n",
       "  </tbody>\n",
       "</table>\n",
       "</div>"
      ],
      "text/plain": [
       "         borough  population  area_sqmi\n",
       "0      Manhattan     1644518         23\n",
       "1          Bronx     1455444         42\n",
       "2       Brooklyn     2636735         71\n",
       "3         Queens     2339150        109\n",
       "4  Staten Island      474558         59"
      ]
     },
     "execution_count": 44,
     "metadata": {},
     "output_type": "execute_result"
    }
   ],
   "source": [
    "pop_df"
   ]
  },
  {
   "cell_type": "code",
   "execution_count": 39,
   "metadata": {},
   "outputs": [
    {
     "data": {
      "text/plain": [
       "30000"
      ]
     },
     "execution_count": 39,
     "metadata": {},
     "output_type": "execute_result"
    }
   ],
   "source": [
    "merged2 = pop_df.merge(merged, left_on='borough', right_on='borough', how = 'right')\n",
    "len(merged2)"
   ]
  },
  {
   "cell_type": "code",
   "execution_count": 40,
   "metadata": {},
   "outputs": [
    {
     "data": {
      "text/html": [
       "<div>\n",
       "<style scoped>\n",
       "    .dataframe tbody tr th:only-of-type {\n",
       "        vertical-align: middle;\n",
       "    }\n",
       "\n",
       "    .dataframe tbody tr th {\n",
       "        vertical-align: top;\n",
       "    }\n",
       "\n",
       "    .dataframe thead th {\n",
       "        text-align: right;\n",
       "    }\n",
       "</style>\n",
       "<table border=\"1\" class=\"dataframe\">\n",
       "  <thead>\n",
       "    <tr style=\"text-align: right;\">\n",
       "      <th></th>\n",
       "      <th>borough</th>\n",
       "      <th>population</th>\n",
       "      <th>area_sqmi</th>\n",
       "      <th>neighborhood</th>\n",
       "      <th>zip</th>\n",
       "      <th>Owner Zip Code</th>\n",
       "      <th>Animal Name</th>\n",
       "      <th>Animal Gender</th>\n",
       "      <th>Primary Breed</th>\n",
       "      <th>Secondary Breed</th>\n",
       "      <th>...</th>\n",
       "      <th>Animal Third Color</th>\n",
       "      <th>Animal Birth</th>\n",
       "      <th>Spayed or Neut</th>\n",
       "      <th>Guard or Trained</th>\n",
       "      <th>Vaccinated</th>\n",
       "      <th>Application Date</th>\n",
       "      <th>License Issued Date</th>\n",
       "      <th>License Expired Date</th>\n",
       "      <th>year</th>\n",
       "      <th>age</th>\n",
       "    </tr>\n",
       "  </thead>\n",
       "  <tbody>\n",
       "    <tr>\n",
       "      <th>0</th>\n",
       "      <td>Manhattan</td>\n",
       "      <td>1644518.0</td>\n",
       "      <td>23.0</td>\n",
       "      <td>Upper West Side</td>\n",
       "      <td>10024.0</td>\n",
       "      <td>10024</td>\n",
       "      <td>BLUE MACK</td>\n",
       "      <td>M</td>\n",
       "      <td>NaN</td>\n",
       "      <td>AIREDALE TERR</td>\n",
       "      <td>...</td>\n",
       "      <td>NaN</td>\n",
       "      <td>2007-11-01</td>\n",
       "      <td>Yes</td>\n",
       "      <td>No</td>\n",
       "      <td>Yes</td>\n",
       "      <td>2012-09-19 16:01:19.647000</td>\n",
       "      <td>2015-09-19</td>\n",
       "      <td>2016-09-19</td>\n",
       "      <td>2007</td>\n",
       "      <td>17</td>\n",
       "    </tr>\n",
       "    <tr>\n",
       "      <th>1</th>\n",
       "      <td>Bronx</td>\n",
       "      <td>1455444.0</td>\n",
       "      <td>42.0</td>\n",
       "      <td>Southeast Bronx</td>\n",
       "      <td>10461.0</td>\n",
       "      <td>10461</td>\n",
       "      <td>Indie Zephir</td>\n",
       "      <td>M</td>\n",
       "      <td>Rottweiler</td>\n",
       "      <td>NaN</td>\n",
       "      <td>...</td>\n",
       "      <td>NaN</td>\n",
       "      <td>2013-04-01</td>\n",
       "      <td>No</td>\n",
       "      <td>No</td>\n",
       "      <td>Yes</td>\n",
       "      <td>2013-09-20 11:41:36.647000</td>\n",
       "      <td>2014-09-20</td>\n",
       "      <td>2018-09-20</td>\n",
       "      <td>2013</td>\n",
       "      <td>11</td>\n",
       "    </tr>\n",
       "    <tr>\n",
       "      <th>2</th>\n",
       "      <td>Manhattan</td>\n",
       "      <td>1644518.0</td>\n",
       "      <td>23.0</td>\n",
       "      <td>Greenwich Village and Soho</td>\n",
       "      <td>10013.0</td>\n",
       "      <td>10013</td>\n",
       "      <td>Bilal</td>\n",
       "      <td>M</td>\n",
       "      <td>Australian Cattledog</td>\n",
       "      <td>NaN</td>\n",
       "      <td>...</td>\n",
       "      <td>NaN</td>\n",
       "      <td>2014-09-01</td>\n",
       "      <td>Yes</td>\n",
       "      <td>No</td>\n",
       "      <td>No</td>\n",
       "      <td>2014-09-12 13:13:36.713000</td>\n",
       "      <td>2014-09-12</td>\n",
       "      <td>2019-09-12</td>\n",
       "      <td>2014</td>\n",
       "      <td>10</td>\n",
       "    </tr>\n",
       "    <tr>\n",
       "      <th>3</th>\n",
       "      <td>Manhattan</td>\n",
       "      <td>1644518.0</td>\n",
       "      <td>23.0</td>\n",
       "      <td>Upper West Side</td>\n",
       "      <td>10025.0</td>\n",
       "      <td>10025</td>\n",
       "      <td>Buddy</td>\n",
       "      <td>M</td>\n",
       "      <td>NaN</td>\n",
       "      <td>Cockapoo</td>\n",
       "      <td>...</td>\n",
       "      <td>NaN</td>\n",
       "      <td>2008-04-01</td>\n",
       "      <td>Yes</td>\n",
       "      <td>No</td>\n",
       "      <td>Yes</td>\n",
       "      <td>2014-09-12 15:26:51.417000</td>\n",
       "      <td>2014-09-12</td>\n",
       "      <td>2017-10-20</td>\n",
       "      <td>2008</td>\n",
       "      <td>16</td>\n",
       "    </tr>\n",
       "    <tr>\n",
       "      <th>4</th>\n",
       "      <td>Manhattan</td>\n",
       "      <td>1644518.0</td>\n",
       "      <td>23.0</td>\n",
       "      <td>Greenwich Village and Soho</td>\n",
       "      <td>10013.0</td>\n",
       "      <td>10013</td>\n",
       "      <td>Ali</td>\n",
       "      <td>M</td>\n",
       "      <td>Basenji</td>\n",
       "      <td>NaN</td>\n",
       "      <td>...</td>\n",
       "      <td>NaN</td>\n",
       "      <td>2014-01-01</td>\n",
       "      <td>No</td>\n",
       "      <td>No</td>\n",
       "      <td>No</td>\n",
       "      <td>2014-09-12 15:43:17.707000</td>\n",
       "      <td>2014-09-12</td>\n",
       "      <td>2019-09-12</td>\n",
       "      <td>2014</td>\n",
       "      <td>10</td>\n",
       "    </tr>\n",
       "  </tbody>\n",
       "</table>\n",
       "<p>5 rows × 22 columns</p>\n",
       "</div>"
      ],
      "text/plain": [
       "     borough  population  area_sqmi                neighborhood      zip  \\\n",
       "0  Manhattan   1644518.0       23.0             Upper West Side  10024.0   \n",
       "1      Bronx   1455444.0       42.0             Southeast Bronx  10461.0   \n",
       "2  Manhattan   1644518.0       23.0  Greenwich Village and Soho  10013.0   \n",
       "3  Manhattan   1644518.0       23.0             Upper West Side  10025.0   \n",
       "4  Manhattan   1644518.0       23.0  Greenwich Village and Soho  10013.0   \n",
       "\n",
       "   Owner Zip Code   Animal Name Animal Gender         Primary Breed  \\\n",
       "0           10024     BLUE MACK             M                   NaN   \n",
       "1           10461  Indie Zephir             M            Rottweiler   \n",
       "2           10013         Bilal             M  Australian Cattledog   \n",
       "3           10025         Buddy             M                   NaN   \n",
       "4           10013           Ali             M               Basenji   \n",
       "\n",
       "  Secondary Breed  ... Animal Third Color Animal Birth Spayed or Neut  \\\n",
       "0   AIREDALE TERR  ...                NaN   2007-11-01            Yes   \n",
       "1             NaN  ...                NaN   2013-04-01             No   \n",
       "2             NaN  ...                NaN   2014-09-01            Yes   \n",
       "3        Cockapoo  ...                NaN   2008-04-01            Yes   \n",
       "4             NaN  ...                NaN   2014-01-01             No   \n",
       "\n",
       "  Guard or Trained Vaccinated            Application Date License Issued Date  \\\n",
       "0               No        Yes  2012-09-19 16:01:19.647000          2015-09-19   \n",
       "1               No        Yes  2013-09-20 11:41:36.647000          2014-09-20   \n",
       "2               No         No  2014-09-12 13:13:36.713000          2014-09-12   \n",
       "3               No        Yes  2014-09-12 15:26:51.417000          2014-09-12   \n",
       "4               No         No  2014-09-12 15:43:17.707000          2014-09-12   \n",
       "\n",
       "  License Expired Date  year age  \n",
       "0           2016-09-19  2007  17  \n",
       "1           2018-09-20  2013  11  \n",
       "2           2019-09-12  2014  10  \n",
       "3           2017-10-20  2008  16  \n",
       "4           2019-09-12  2014  10  \n",
       "\n",
       "[5 rows x 22 columns]"
      ]
     },
     "execution_count": 40,
     "metadata": {},
     "output_type": "execute_result"
    }
   ],
   "source": [
    "merged2.head()"
   ]
  },
  {
   "cell_type": "code",
   "execution_count": 45,
   "metadata": {},
   "outputs": [
    {
     "data": {
      "text/plain": [
       "0                NaN\n",
       "1                NaN\n",
       "2                NaN\n",
       "3                NaN\n",
       "4                NaN\n",
       "                ... \n",
       "Bronx            NaN\n",
       "Brooklyn         NaN\n",
       "Manhattan        NaN\n",
       "Queens           NaN\n",
       "Staten Island    NaN\n",
       "Length: 30005, dtype: object"
      ]
     },
     "execution_count": 45,
     "metadata": {},
     "output_type": "execute_result"
    }
   ],
   "source": [
    "merged2.value_counts('borough') /merged2['borough']['population']"
   ]
  },
  {
   "cell_type": "code",
   "execution_count": 52,
   "metadata": {},
   "outputs": [
    {
     "name": "stdout",
     "output_type": "stream",
     "text": [
      "<class 'pandas.core.series.Series'>\n"
     ]
    },
    {
     "data": {
      "text/plain": [
       "borough\n",
       "Manhattan        10478\n",
       "Brooklyn          7466\n",
       "Queens            6154\n",
       "Bronx             2748\n",
       "Staten Island     2727\n",
       "Name: count, dtype: int64"
      ]
     },
     "execution_count": 52,
     "metadata": {},
     "output_type": "execute_result"
    }
   ],
   "source": [
    "# 各boroughの犬の数をカウント\n",
    "dog_counts = merged2['borough'].value_counts()\n",
    "print(type(dog_counts))\n",
    "dog_counts.head()"
   ]
  },
  {
   "cell_type": "code",
   "execution_count": 53,
   "metadata": {},
   "outputs": [
    {
     "name": "stdout",
     "output_type": "stream",
     "text": [
      "<class 'pandas.core.series.Series'>\n"
     ]
    },
    {
     "data": {
      "text/plain": [
       "borough\n",
       "Manhattan        1644518.0\n",
       "Bronx            1455444.0\n",
       "Brooklyn         2636735.0\n",
       "Staten Island     474558.0\n",
       "Queens           2339150.0\n",
       "Name: population, dtype: float64"
      ]
     },
     "execution_count": 53,
     "metadata": {},
     "output_type": "execute_result"
    }
   ],
   "source": [
    "\n",
    "# 各boroughの人口を取得（重複排除）\n",
    "population = merged2.drop_duplicates(subset='borough').set_index('borough')['population']\n",
    "print(type(population))\n",
    "population.head()"
   ]
  },
  {
   "cell_type": "code",
   "execution_count": 57,
   "metadata": {},
   "outputs": [
    {
     "name": "stdout",
     "output_type": "stream",
     "text": [
      "borough\n",
      "Manhattan        0.006371\n",
      "Staten Island    0.005746\n",
      "Brooklyn         0.002832\n",
      "Queens           0.002631\n",
      "Bronx            0.001888\n",
      "NaN                   NaN\n",
      "dtype: float64\n"
     ]
    }
   ],
   "source": [
    "# 犬の数を人口で割る\n",
    "dogs_per_person = dog_counts / population\n",
    "\n",
    "# 結果を表示\n",
    "print(dogs_per_person.sort_values(ascending=False)) # Manhattan is the highest"
   ]
  },
  {
   "cell_type": "markdown",
   "metadata": {},
   "source": [
    "## Make a bar graph of the top 5 breeds in each borough.\n",
    "\n",
    "How do you groupby and then only take the top X number? This is very crazy, so ask in Slack, or a TA, or our buddy ChatGPT."
   ]
  },
  {
   "cell_type": "code",
   "execution_count": 58,
   "metadata": {},
   "outputs": [
    {
     "data": {
      "text/html": [
       "<div>\n",
       "<style scoped>\n",
       "    .dataframe tbody tr th:only-of-type {\n",
       "        vertical-align: middle;\n",
       "    }\n",
       "\n",
       "    .dataframe tbody tr th {\n",
       "        vertical-align: top;\n",
       "    }\n",
       "\n",
       "    .dataframe thead th {\n",
       "        text-align: right;\n",
       "    }\n",
       "</style>\n",
       "<table border=\"1\" class=\"dataframe\">\n",
       "  <thead>\n",
       "    <tr style=\"text-align: right;\">\n",
       "      <th></th>\n",
       "      <th>neighborhood</th>\n",
       "      <th>zip</th>\n",
       "      <th>borough</th>\n",
       "      <th>Owner Zip Code</th>\n",
       "      <th>Animal Name</th>\n",
       "      <th>Animal Gender</th>\n",
       "      <th>Primary Breed</th>\n",
       "      <th>Secondary Breed</th>\n",
       "      <th>Animal Dominant Color</th>\n",
       "      <th>Animal Secondary Color</th>\n",
       "      <th>Animal Third Color</th>\n",
       "      <th>Animal Birth</th>\n",
       "      <th>Spayed or Neut</th>\n",
       "      <th>Guard or Trained</th>\n",
       "      <th>Vaccinated</th>\n",
       "      <th>Application Date</th>\n",
       "      <th>License Issued Date</th>\n",
       "      <th>License Expired Date</th>\n",
       "      <th>year</th>\n",
       "      <th>age</th>\n",
       "    </tr>\n",
       "  </thead>\n",
       "  <tbody>\n",
       "    <tr>\n",
       "      <th>0</th>\n",
       "      <td>Upper West Side</td>\n",
       "      <td>10024.0</td>\n",
       "      <td>Manhattan</td>\n",
       "      <td>10024</td>\n",
       "      <td>BLUE MACK</td>\n",
       "      <td>M</td>\n",
       "      <td>NaN</td>\n",
       "      <td>AIREDALE TERR</td>\n",
       "      <td>BROWN</td>\n",
       "      <td>BLACK</td>\n",
       "      <td>NaN</td>\n",
       "      <td>2007-11-01</td>\n",
       "      <td>Yes</td>\n",
       "      <td>No</td>\n",
       "      <td>Yes</td>\n",
       "      <td>2012-09-19 16:01:19.647000</td>\n",
       "      <td>2015-09-19</td>\n",
       "      <td>2016-09-19</td>\n",
       "      <td>2007</td>\n",
       "      <td>17</td>\n",
       "    </tr>\n",
       "    <tr>\n",
       "      <th>1</th>\n",
       "      <td>Southeast Bronx</td>\n",
       "      <td>10461.0</td>\n",
       "      <td>Bronx</td>\n",
       "      <td>10461</td>\n",
       "      <td>Indie Zephir</td>\n",
       "      <td>M</td>\n",
       "      <td>Rottweiler</td>\n",
       "      <td>NaN</td>\n",
       "      <td>BLACK</td>\n",
       "      <td>TAN</td>\n",
       "      <td>NaN</td>\n",
       "      <td>2013-04-01</td>\n",
       "      <td>No</td>\n",
       "      <td>No</td>\n",
       "      <td>Yes</td>\n",
       "      <td>2013-09-20 11:41:36.647000</td>\n",
       "      <td>2014-09-20</td>\n",
       "      <td>2018-09-20</td>\n",
       "      <td>2013</td>\n",
       "      <td>11</td>\n",
       "    </tr>\n",
       "    <tr>\n",
       "      <th>2</th>\n",
       "      <td>Greenwich Village and Soho</td>\n",
       "      <td>10013.0</td>\n",
       "      <td>Manhattan</td>\n",
       "      <td>10013</td>\n",
       "      <td>Bilal</td>\n",
       "      <td>M</td>\n",
       "      <td>Australian Cattledog</td>\n",
       "      <td>NaN</td>\n",
       "      <td>Rust</td>\n",
       "      <td>NaN</td>\n",
       "      <td>NaN</td>\n",
       "      <td>2014-09-01</td>\n",
       "      <td>Yes</td>\n",
       "      <td>No</td>\n",
       "      <td>No</td>\n",
       "      <td>2014-09-12 13:13:36.713000</td>\n",
       "      <td>2014-09-12</td>\n",
       "      <td>2019-09-12</td>\n",
       "      <td>2014</td>\n",
       "      <td>10</td>\n",
       "    </tr>\n",
       "    <tr>\n",
       "      <th>3</th>\n",
       "      <td>Upper West Side</td>\n",
       "      <td>10025.0</td>\n",
       "      <td>Manhattan</td>\n",
       "      <td>10025</td>\n",
       "      <td>Buddy</td>\n",
       "      <td>M</td>\n",
       "      <td>NaN</td>\n",
       "      <td>Cockapoo</td>\n",
       "      <td>BLOND</td>\n",
       "      <td>WHITE</td>\n",
       "      <td>NaN</td>\n",
       "      <td>2008-04-01</td>\n",
       "      <td>Yes</td>\n",
       "      <td>No</td>\n",
       "      <td>Yes</td>\n",
       "      <td>2014-09-12 15:26:51.417000</td>\n",
       "      <td>2014-09-12</td>\n",
       "      <td>2017-10-20</td>\n",
       "      <td>2008</td>\n",
       "      <td>16</td>\n",
       "    </tr>\n",
       "    <tr>\n",
       "      <th>4</th>\n",
       "      <td>Greenwich Village and Soho</td>\n",
       "      <td>10013.0</td>\n",
       "      <td>Manhattan</td>\n",
       "      <td>10013</td>\n",
       "      <td>Ali</td>\n",
       "      <td>M</td>\n",
       "      <td>Basenji</td>\n",
       "      <td>NaN</td>\n",
       "      <td>Black</td>\n",
       "      <td>NaN</td>\n",
       "      <td>NaN</td>\n",
       "      <td>2014-01-01</td>\n",
       "      <td>No</td>\n",
       "      <td>No</td>\n",
       "      <td>No</td>\n",
       "      <td>2014-09-12 15:43:17.707000</td>\n",
       "      <td>2014-09-12</td>\n",
       "      <td>2019-09-12</td>\n",
       "      <td>2014</td>\n",
       "      <td>10</td>\n",
       "    </tr>\n",
       "  </tbody>\n",
       "</table>\n",
       "</div>"
      ],
      "text/plain": [
       "                 neighborhood      zip    borough  Owner Zip Code  \\\n",
       "0             Upper West Side  10024.0  Manhattan           10024   \n",
       "1             Southeast Bronx  10461.0      Bronx           10461   \n",
       "2  Greenwich Village and Soho  10013.0  Manhattan           10013   \n",
       "3             Upper West Side  10025.0  Manhattan           10025   \n",
       "4  Greenwich Village and Soho  10013.0  Manhattan           10013   \n",
       "\n",
       "    Animal Name Animal Gender         Primary Breed Secondary Breed  \\\n",
       "0     BLUE MACK             M                   NaN   AIREDALE TERR   \n",
       "1  Indie Zephir             M            Rottweiler             NaN   \n",
       "2         Bilal             M  Australian Cattledog             NaN   \n",
       "3         Buddy             M                   NaN        Cockapoo   \n",
       "4           Ali             M               Basenji             NaN   \n",
       "\n",
       "  Animal Dominant Color Animal Secondary Color Animal Third Color  \\\n",
       "0                 BROWN                  BLACK                NaN   \n",
       "1                 BLACK                    TAN                NaN   \n",
       "2                  Rust                    NaN                NaN   \n",
       "3                 BLOND                  WHITE                NaN   \n",
       "4                 Black                    NaN                NaN   \n",
       "\n",
       "  Animal Birth Spayed or Neut Guard or Trained Vaccinated  \\\n",
       "0   2007-11-01            Yes               No        Yes   \n",
       "1   2013-04-01             No               No        Yes   \n",
       "2   2014-09-01            Yes               No         No   \n",
       "3   2008-04-01            Yes               No        Yes   \n",
       "4   2014-01-01             No               No         No   \n",
       "\n",
       "             Application Date License Issued Date License Expired Date  year  \\\n",
       "0  2012-09-19 16:01:19.647000          2015-09-19           2016-09-19  2007   \n",
       "1  2013-09-20 11:41:36.647000          2014-09-20           2018-09-20  2013   \n",
       "2  2014-09-12 13:13:36.713000          2014-09-12           2019-09-12  2014   \n",
       "3  2014-09-12 15:26:51.417000          2014-09-12           2017-10-20  2008   \n",
       "4  2014-09-12 15:43:17.707000          2014-09-12           2019-09-12  2014   \n",
       "\n",
       "   age  \n",
       "0   17  \n",
       "1   11  \n",
       "2   10  \n",
       "3   16  \n",
       "4   10  "
      ]
     },
     "execution_count": 58,
     "metadata": {},
     "output_type": "execute_result"
    }
   ],
   "source": [
    "merged.head()"
   ]
  },
  {
   "cell_type": "code",
   "execution_count": 60,
   "metadata": {},
   "outputs": [
    {
     "data": {
      "image/png": "[encoded data removed]",
      "text/plain": [
       "<Figure size 1000x800 with 1 Axes>"
      ]
     },
     "metadata": {},
     "output_type": "display_data"
    }
   ],
   "source": [
    "import matplotlib.pyplot as plt\n",
    "top_breeds_per_borough = merged.groupby('borough')['Primary Breed'].value_counts().groupby(level=0).head(5)\n",
    "\n",
    "# グラフ描画の準備\n",
    "fig, ax = plt.subplots(figsize=(10, 8))\n",
    "\n",
    "# 上位5位の犬種のデータを棒グラフで描画\n",
    "top_breeds_per_borough.unstack().plot(kind='bar', ax=ax)\n",
    "\n",
    "# タイトルとラベルの設定\n",
    "ax.set_title('Top 5 Dog Breeds per Borough')\n",
    "ax.set_xlabel('Borough')\n",
    "ax.set_ylabel('Number of Dogs')\n",
    "\n",
    "# 凡例を表示\n",
    "ax.legend(title='Dog Breeds')\n",
    "\n",
    "# グラフを表示\n",
    "plt.show()"
   ]
  },
  {
   "cell_type": "code",
   "execution_count": null,
   "metadata": {},
   "outputs": [],
   "source": []
  }
 ],
 "metadata": {
  "kernelspec": {
   "display_name": "Python 3 (ipykernel)",
   "language": "python",
   "name": "python3"
  },
  "language_info": {
   "codemirror_mode": {
    "name": "ipython",
    "version": 3
   },
   "file_extension": ".py",
   "mimetype": "text/x-python",
   "name": "python",
   "nbconvert_exporter": "python",
   "pygments_lexer": "ipython3",
   "version": "3.11.8"
  },
  "widgets": {
   "application/vnd.jupyter.widget-state+json": {
    "state": {},
    "version_major": 2,
    "version_minor": 0
   }
  }
 },
 "nbformat": 4,
 "nbformat_minor": 4
}
